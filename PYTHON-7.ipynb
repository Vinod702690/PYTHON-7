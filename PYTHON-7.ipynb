{
 "cells": [
  {
   "cell_type": "code",
   "execution_count": null,
   "id": "ba06194f-a807-4893-8ffd-09c037724397",
   "metadata": {},
   "outputs": [],
   "source": [
    "Functions in Python"
   ]
  },
  {
   "cell_type": "code",
   "execution_count": 1,
   "id": "33387288-6111-448e-8529-1ef64cae7684",
   "metadata": {},
   "outputs": [
    {
     "name": "stdout",
     "output_type": "stream",
     "text": [
      "Sum is 420\n"
     ]
    }
   ],
   "source": [
    "sum = 0\n",
    "start = 10\n",
    "end = 30\n",
    "for i in range(start, end+1):\n",
    "    sum += i    \n",
    "\n",
    "print(\"Sum is\", sum)"
   ]
  },
  {
   "cell_type": "code",
   "execution_count": 2,
   "id": "d85a6364-7074-41cd-baa2-17a021334cfe",
   "metadata": {},
   "outputs": [
    {
     "name": "stdout",
     "output_type": "stream",
     "text": [
      "Sum is 15150\n"
     ]
    }
   ],
   "source": [
    "sum = 0\n",
    "start = 100\n",
    "end = 200\n",
    "for i in range(start, end+1):\n",
    "    sum += i    \n",
    "\n",
    "print(\"Sum is\", sum)"
   ]
  },
  {
   "cell_type": "code",
   "execution_count": 7,
   "id": "cd8f9453-5807-45ea-beea-d1ed851e41e4",
   "metadata": {},
   "outputs": [],
   "source": [
    "import datetime\n",
    "\n",
    "def greet():\n",
    "    print(\"Hello !\")\n",
    "    print(\"Today is\", datetime.datetime.now())\n",
    "\n"
   ]
  },
  {
   "cell_type": "code",
   "execution_count": 6,
   "id": "cd94a515-e46e-4435-b472-bb53b0bdbde4",
   "metadata": {},
   "outputs": [
    {
     "name": "stdout",
     "output_type": "stream",
     "text": [
      "Hello !\n",
      "Today is 2024-06-12 02:00:12.856036\n"
     ]
    }
   ],
   "source": [
    "import datetime\n",
    "\n",
    "def greet():\n",
    "    print(\"Hello !\")\n",
    "    print(\"Today is\", datetime.datetime.now())\n",
    "\n",
    "greet()"
   ]
  },
  {
   "cell_type": "code",
   "execution_count": null,
   "id": "5411445f-617d-4930-b38e-bae75a221796",
   "metadata": {},
   "outputs": [],
   "source": [
    "Function Call"
   ]
  },
  {
   "cell_type": "code",
   "execution_count": 8,
   "id": "cf1b611d-0dbb-40d4-a912-e1ac832d680d",
   "metadata": {},
   "outputs": [
    {
     "name": "stdout",
     "output_type": "stream",
     "text": [
      "Hello !\n",
      "Today is 2024-06-12 02:01:39.586162\n"
     ]
    }
   ],
   "source": [
    "import datetime\n",
    "\n",
    "def greet():\n",
    "    print(\"Hello !\")\n",
    "    print(\"Today is\", datetime.datetime.now())\n",
    "\n",
    "greet()"
   ]
  },
  {
   "cell_type": "code",
   "execution_count": 9,
   "id": "6dd0a5f3-170c-4ca3-8fe5-b545ae06db45",
   "metadata": {},
   "outputs": [
    {
     "name": "stdout",
     "output_type": "stream",
     "text": [
      "Hello !\n",
      "Today is 2024-06-12 02:01:58.386021\n"
     ]
    }
   ],
   "source": [
    "import datetime\n",
    "\n",
    "greet() ## ERROR: trying to call greet() before its defined\n",
    "\n",
    "def greet():\n",
    "    print(\"Hello !\")\n",
    "    print(\"Today is\", datetime.datetime.now())\n",
    "\n"
   ]
  },
  {
   "cell_type": "code",
   "execution_count": 10,
   "id": "e142d917-61b7-47e3-ba83-51742b77733f",
   "metadata": {},
   "outputs": [
    {
     "name": "stdout",
     "output_type": "stream",
     "text": [
      "Before calling greet()\n",
      "Hello !\n",
      "Today is 2024-06-12 02:02:18.742379\n",
      "After calling greet()\n"
     ]
    }
   ],
   "source": [
    "import datetime\n",
    "\n",
    "def greet():\n",
    "    print(\"Hello !\")\n",
    "    print(\"Today is\", datetime.datetime.now())\n",
    "\n",
    "print(\"Before calling greet()\")\n",
    "greet()\n",
    "print(\"After calling greet()\")\n",
    "\n"
   ]
  },
  {
   "cell_type": "code",
   "execution_count": 11,
   "id": "9e7cbd38-f258-450e-8ddf-f72529940f00",
   "metadata": {},
   "outputs": [
    {
     "name": "stdout",
     "output_type": "stream",
     "text": [
      "main() function called\n",
      "Hello Jon !\n",
      "Today is 2024-06-12 02:02:44.682346\n",
      "main() function finished\n"
     ]
    }
   ],
   "source": [
    "import datetime\n",
    "\n",
    "def greet(name):\n",
    "    print(\"Hello\", name, \"!\")\n",
    "    print(\"Today is\", datetime.datetime.now())\n",
    "\n",
    "\n",
    "def main():\n",
    "    print(\"main() function called\")\n",
    "    greet(\"Jon\")\n",
    "    print(\"main() function finished\")\n",
    "\n",
    "main()"
   ]
  },
  {
   "cell_type": "code",
   "execution_count": null,
   "id": "c1ae1a70-05a7-406d-bd82-2f8c65c72a11",
   "metadata": {},
   "outputs": [],
   "source": [
    "Local Variables, Global Variables and Scope"
   ]
  },
  {
   "cell_type": "code",
   "execution_count": 12,
   "id": "e572f713-8be9-434b-80c2-23048a47ca0c",
   "metadata": {},
   "outputs": [
    {
     "name": "stdout",
     "output_type": "stream",
     "text": [
      "Inside func() - local_var = 100\n",
      "Inside func() - global_var = 200\n",
      "Outside func() - global_var = 200\n"
     ]
    }
   ],
   "source": [
    "global_var = 200  # a global variable\n",
    "\n",
    "def func():\n",
    "\n",
    "    # local_var is a local variable\n",
    "    # and is only available inside func() \n",
    "    local_var = 100\n",
    "\n",
    "    print(\"Inside func() - local_var =\", local_var)\n",
    "\n",
    "    # accessing a global variable inside a function\n",
    "    print(\"Inside func() - global_var =\", global_var)\n",
    "\n",
    "\n",
    "func()\n",
    "\n",
    "print(\"Outside func() - global_var =\", global_var)\n",
    "\n",
    "# print(\"Outside func() - local_var =\", local_var)  # ERROR: local_var is not available here\n"
   ]
  },
  {
   "cell_type": "code",
   "execution_count": 13,
   "id": "f209ba38-a655-46b1-8ac8-19a6f8fd54ee",
   "metadata": {},
   "outputs": [
    {
     "name": "stdout",
     "output_type": "stream",
     "text": [
      "local\n",
      "global\n"
     ]
    }
   ],
   "source": [
    "num = \"global\"  # global num variable\n",
    "\n",
    "def func():\n",
    "    num = \"local\"   # local num variable is entirely different from global num variable\n",
    "    print(num)\n",
    "\n",
    "func()\n",
    "print(num)"
   ]
  },
  {
   "cell_type": "code",
   "execution_count": 14,
   "id": "213f1949-dd64-4fa6-973e-97bf37c384ab",
   "metadata": {},
   "outputs": [
    {
     "name": "stdout",
     "output_type": "stream",
     "text": [
      "func_1(): x = 100\n",
      "func_1(): x = 200\n",
      "func_2(): x = str\n",
      "func_2(): x = complex\n"
     ]
    }
   ],
   "source": [
    "def func_1():\n",
    "    x = 100  # this x is only visible inside func_1()\n",
    "    print(\"func_1(): x =\", x)\n",
    "    x = 200\n",
    "    print(\"func_1(): x =\", x)\n",
    "\n",
    "\n",
    "def func_2():\n",
    "    x = \"str\" # this x is only visible inside func_2() and it entirely different from func1()'s variable x\n",
    "    print(\"func_2(): x =\", x)\n",
    "    x = \"complex\"\n",
    "    print(\"func_2(): x =\", x)\n",
    "\n",
    "# x is not visible in here\n",
    "\n",
    "func_1()\n",
    "func_2()"
   ]
  },
  {
   "cell_type": "code",
   "execution_count": 15,
   "id": "b0e85588-3744-4158-b165-c7bf8dea62fd",
   "metadata": {},
   "outputs": [
    {
     "name": "stdout",
     "output_type": "stream",
     "text": [
      "Result = 200\n"
     ]
    }
   ],
   "source": [
    "def add_100(num):  # num is a parameter\n",
    "    print(\"Result =\", num+100)\n",
    "\n",
    "\n",
    "x = 100\n",
    "add_100(x)"
   ]
  },
  {
   "cell_type": "code",
   "execution_count": 16,
   "id": "c84b83c8-5387-44c9-a00d-856b45cf4137",
   "metadata": {},
   "outputs": [
    {
     "name": "stdin",
     "output_type": "stream",
     "text": [
      "Enter a number:  4\n"
     ]
    },
    {
     "name": "stdout",
     "output_type": "stream",
     "text": [
      "24\n"
     ]
    }
   ],
   "source": [
    "def factorial(n):\n",
    "    f = 1\n",
    "    for i in range(n, 0, -1):\n",
    "        f *= n\n",
    "        n -= 1\n",
    "\n",
    "    print(f)\n",
    "\n",
    "num = input(\"Enter a number: \")\n",
    "factorial(int(num))\n",
    "\n"
   ]
  },
  {
   "cell_type": "code",
   "execution_count": 21,
   "id": "0160ee89-2f69-4d39-97d9-bb785e2b39b9",
   "metadata": {},
   "outputs": [
    {
     "name": "stdout",
     "output_type": "stream",
     "text": [
      "Sum = 30\n",
      "Difference = -10\n",
      "Multiplication = 200\n",
      "Division = 0.5\n",
      "\n"
     ]
    }
   ],
   "source": [
    "def calc(num1, num2):\n",
    "    print(\"Sum =\", num1 + num2)\n",
    "    print(\"Difference =\", num1 - num2)\n",
    "    print(\"Multiplication =\", num1 * num2)\n",
    "    print(\"Division =\", num1 / num2)\n",
    "    print()  # prints a blank line\n",
    "\n",
    "calc(10, 20)"
   ]
  },
  {
   "cell_type": "code",
   "execution_count": null,
   "id": "b89ac8d9-ed03-410d-8262-f2907b9660b5",
   "metadata": {},
   "outputs": [],
   "source": [
    "Pass by Value"
   ]
  },
  {
   "cell_type": "code",
   "execution_count": 22,
   "id": "07159a26-20b2-4dcd-b8c9-5794d05cc98e",
   "metadata": {},
   "outputs": [
    {
     "name": "stdout",
     "output_type": "stream",
     "text": [
      "Address of arg1: 140719112332824\n",
      "Address of para1: 140719112332824\n",
      "100\n"
     ]
    }
   ],
   "source": [
    "def func(para1):\n",
    "    print(\"Address of para1:\", id(para1))\n",
    "    print(para1)\n",
    "\n",
    "arg1 = 100\n",
    "print(\"Address of arg1:\", id(arg1))\n",
    "func(arg1)"
   ]
  },
  {
   "cell_type": "code",
   "execution_count": 23,
   "id": "cbc841b0-ac12-4a0e-817f-9133b1c487ff",
   "metadata": {},
   "outputs": [
    {
     "name": "stdout",
     "output_type": "stream",
     "text": [
      "Before function call, arg1 = 100\n",
      "Inside function call, para1 = 200\n",
      "After function call, arg1 = 100\n"
     ]
    }
   ],
   "source": [
    "def func(para1):\n",
    "    para1 += 100  # increment para1 by 100\n",
    "    print(\"Inside function call, para1 =\", para1)\n",
    "\n",
    "arg1 = 100\n",
    "print(\"Before function call, arg1 =\", arg1)\n",
    "func(arg1)\n",
    "print(\"After function call, arg1 =\", arg1)\n",
    "\n"
   ]
  },
  {
   "cell_type": "code",
   "execution_count": 24,
   "id": "b83be812-4f1d-477c-981b-9199a92b3af1",
   "metadata": {},
   "outputs": [
    {
     "name": "stdout",
     "output_type": "stream",
     "text": [
      "Before function call, arg1 = [1, 2, 3]\n",
      "Inside function call, para1 = [1, 2, 3, 4]\n",
      "After function call, arg1 = [1, 2, 3, 4]\n"
     ]
    }
   ],
   "source": [
    "def func(para1):\n",
    "    para1.append(4)\n",
    "    print(\"Inside function call, para1 =\", para1)\n",
    "\n",
    "arg1 = [1,2,3]\n",
    "print(\"Before function call, arg1 =\", arg1)\n",
    "func(arg1)\n",
    "print(\"After function call, arg1 =\", arg1)"
   ]
  },
  {
   "cell_type": "code",
   "execution_count": null,
   "id": "dc5d2ec9-a890-4f87-ac49-3487d62f5e9b",
   "metadata": {},
   "outputs": [],
   "source": [
    "Positional and Keyword Arguments"
   ]
  },
  {
   "cell_type": "code",
   "execution_count": 27,
   "id": "36fa182e-ddb8-4e5e-82bf-7004d933ab35",
   "metadata": {},
   "outputs": [],
   "source": [
    "def is_pythagorean_triplet(base, height, perpendicular):\n",
    "    if base ** 2 + height ** 2 ==  perpendicular ** 2:\n",
    "        print(\"Numbers passed are Pythagorean Triplets\")\n",
    "    else:\n",
    "        print(\"Numbers passed are not Pythagorean Triplets\")"
   ]
  },
  {
   "cell_type": "code",
   "execution_count": 28,
   "id": "503a7c72-0267-497a-a5c0-97c94cabce99",
   "metadata": {},
   "outputs": [
    {
     "name": "stdout",
     "output_type": "stream",
     "text": [
      "Numbers passed are Pythagorean Triplets\n",
      "Numbers passed are Pythagorean Triplets\n",
      "Numbers passed are Pythagorean Triplets\n"
     ]
    }
   ],
   "source": [
    "is_pythagorean_triplet(base=3, height=4, perpendicular=5) \n",
    "\n",
    "is_pythagorean_triplet(base=3, perpendicular=5, height=4)\n",
    "\n",
    "is_pythagorean_triplet(perpendicular=5, height=4, base=3)\n"
   ]
  },
  {
   "cell_type": "code",
   "execution_count": null,
   "id": "5151c000-122c-4e4e-8f8d-84504f8613f0",
   "metadata": {},
   "outputs": [],
   "source": [
    "Mixing Positional and Keyword arguments"
   ]
  },
  {
   "cell_type": "code",
   "execution_count": 29,
   "id": "58d30cc1-44eb-4447-84bd-f37e1379f99a",
   "metadata": {},
   "outputs": [
    {
     "name": "stdout",
     "output_type": "stream",
     "text": [
      "Numbers passed are Pythagorean Triplets\n",
      "Numbers passed are Pythagorean Triplets\n"
     ]
    }
   ],
   "source": [
    "## valid \n",
    "\n",
    "is_pythagorean_triplet(3, 4, perpendicular=5)\n",
    "is_pythagorean_triplet(3, perpendicular=5, height=4)\n"
   ]
  },
  {
   "cell_type": "code",
   "execution_count": 30,
   "id": "4e69a291-ef83-4110-a308-cb3a6ee7c250",
   "metadata": {},
   "outputs": [
    {
     "ename": "SyntaxError",
     "evalue": "positional argument follows keyword argument (3162509638.py, line 3)",
     "output_type": "error",
     "traceback": [
      "\u001b[1;36m  Cell \u001b[1;32mIn[30], line 3\u001b[1;36m\u001b[0m\n\u001b[1;33m    is_pythagorean_triplet(3, height=4, 5)\u001b[0m\n\u001b[1;37m                                         ^\u001b[0m\n\u001b[1;31mSyntaxError\u001b[0m\u001b[1;31m:\u001b[0m positional argument follows keyword argument\n"
     ]
    }
   ],
   "source": [
    "# not valid\n",
    "\n",
    "is_pythagorean_triplet(3, height=4, 5)\n",
    "\n"
   ]
  },
  {
   "cell_type": "code",
   "execution_count": null,
   "id": "e1ab75e7-915b-4d2d-a33f-f2e64c032413",
   "metadata": {},
   "outputs": [],
   "source": [
    "Returning Values"
   ]
  },
  {
   "cell_type": "code",
   "execution_count": 31,
   "id": "ba4488bf-2a01-43ce-9ae9-e9da33ceaa3b",
   "metadata": {},
   "outputs": [],
   "source": [
    "def add(num1, num2):\n",
    "    return num1 + num2\n"
   ]
  },
  {
   "cell_type": "code",
   "execution_count": 34,
   "id": "99089e3d-da9b-4be9-8759-251b5377fc07",
   "metadata": {},
   "outputs": [],
   "source": [
    "result = add(12, 10)"
   ]
  },
  {
   "cell_type": "code",
   "execution_count": 35,
   "id": "8593d17f-a985-410c-9aa4-906e5285fbd2",
   "metadata": {},
   "outputs": [
    {
     "name": "stdout",
     "output_type": "stream",
     "text": [
      "22\n"
     ]
    }
   ],
   "source": [
    "result = add(12, 10) * 10  # return value of add() is multiplied by 10 and then assigned to result\n",
    "\n",
    "if add(12, 10) == 100:   #  return value of add() is compared with 100 in the if statement\n",
    "    print(\"It is True\")\n",
    "\n",
    "print(add(12, 10))  # return value of add() is printed"
   ]
  },
  {
   "cell_type": "code",
   "execution_count": 36,
   "id": "5a7905a6-76cf-474a-ad81-e443e34fd31a",
   "metadata": {},
   "outputs": [
    {
     "name": "stdout",
     "output_type": "stream",
     "text": [
      "Factorial of 4 is 24\n",
      "Factorial of 4 is 720\n"
     ]
    }
   ],
   "source": [
    "def factorial(n):\n",
    "    f = 1\n",
    "    for i in range(n, 0, -1):\n",
    "        f *= n\n",
    "        n -= 1\n",
    "\n",
    "    return f\n",
    "\n",
    "\n",
    "print(\"Factorial of 4 is\", factorial(4))\n",
    "print(\"Factorial of 4 is\", factorial(6))\n",
    "\n"
   ]
  },
  {
   "cell_type": "code",
   "execution_count": 37,
   "id": "7192bd95-4303-4da9-a488-bac3db39796d",
   "metadata": {},
   "outputs": [
    {
     "name": "stdin",
     "output_type": "stream",
     "text": [
      "Enter a number:  13\n"
     ]
    },
    {
     "name": "stdout",
     "output_type": "stream",
     "text": [
      "13 is odd\n"
     ]
    }
   ],
   "source": [
    "def is_even(number):\n",
    "    if number % 2 == 0:\n",
    "        return True\n",
    "    else:\n",
    "        return False\n",
    "\n",
    "\n",
    "num = int(input(\"Enter a number: \"))\n",
    "\n",
    "if is_even(num):\n",
    "    print(num, \"is even\")\n",
    "else:\n",
    "    print(num, \"is odd\")"
   ]
  },
  {
   "cell_type": "code",
   "execution_count": 38,
   "id": "c535f2fb-a31b-435b-8a0f-1d2ed187ea3b",
   "metadata": {},
   "outputs": [
    {
     "name": "stdin",
     "output_type": "stream",
     "text": [
      "Enter a number:  456\n"
     ]
    },
    {
     "name": "stdout",
     "output_type": "stream",
     "text": [
      "456 is even\n"
     ]
    }
   ],
   "source": [
    "def is_even(number):\n",
    "    if number % 2 == 0:\n",
    "        return True\n",
    "    else:\n",
    "        return False\n",
    "\n",
    "\n",
    "num = int(input(\"Enter a number: \"))\n",
    "\n",
    "if is_even(num):\n",
    "    print(num, \"is even\")\n",
    "else:\n",
    "    print(num, \"is odd\")"
   ]
  },
  {
   "cell_type": "code",
   "execution_count": 39,
   "id": "d5fabd4f-5c5a-4aac-b552-1ced69c8f051",
   "metadata": {},
   "outputs": [
    {
     "name": "stdout",
     "output_type": "stream",
     "text": [
      "None\n"
     ]
    }
   ],
   "source": [
    "def foo():\n",
    "    return\n",
    "\n",
    "result = foo()\n",
    "print(result)\n"
   ]
  },
  {
   "cell_type": "code",
   "execution_count": 40,
   "id": "6894b3dd-e78b-49d4-92c7-5b9252437e23",
   "metadata": {},
   "outputs": [
    {
     "name": "stdin",
     "output_type": "stream",
     "text": [
      "Enter your marks:  68\n"
     ]
    },
    {
     "name": "stdout",
     "output_type": "stream",
     "text": [
      "Your grade is D\n"
     ]
    }
   ],
   "source": [
    "def calculate_grade(marks):\n",
    "    if marks >= 90:\n",
    "        return 'A'\n",
    "    elif marks >= 80:\n",
    "        return 'B'\n",
    "    elif marks >= 70:\n",
    "        return 'C'\n",
    "    elif marks >= 60:\n",
    "        return 'D'\n",
    "    else:\n",
    "        return 'F'\n",
    "\n",
    "\n",
    "m = int(input(\"Enter your marks: \"))\n",
    "print(\"Your grade is\", calculate_grade(m))\n",
    "\n"
   ]
  },
  {
   "cell_type": "code",
   "execution_count": 41,
   "id": "bdecb24e-35e5-4303-a07c-19e4c8680e90",
   "metadata": {},
   "outputs": [
    {
     "name": "stdout",
     "output_type": "stream",
     "text": [
      "Sum is 300\n",
      "None\n"
     ]
    }
   ],
   "source": [
    "def add(num1, num2):\n",
    "    print(\"Sum is\", num1 + num2)\n",
    "\n",
    "return_val = add(100, 200)\n",
    "print(return_val)"
   ]
  },
  {
   "cell_type": "code",
   "execution_count": 42,
   "id": "bdfaaf4d-f028-4592-9c86-3677ab64902f",
   "metadata": {},
   "outputs": [
    {
     "name": "stdout",
     "output_type": "stream",
     "text": [
      "Sum is 210\n"
     ]
    },
    {
     "ename": "TypeError",
     "evalue": "unsupported operand type(s) for +: 'NoneType' and 'int'",
     "output_type": "error",
     "traceback": [
      "\u001b[1;31m---------------------------------------------------------------------------\u001b[0m",
      "\u001b[1;31mTypeError\u001b[0m                                 Traceback (most recent call last)",
      "Cell \u001b[1;32mIn[42], line 4\u001b[0m\n\u001b[0;32m      1\u001b[0m \u001b[38;5;28;01mdef\u001b[39;00m \u001b[38;5;21madd\u001b[39m(num1, num2):\n\u001b[0;32m      2\u001b[0m     \u001b[38;5;28mprint\u001b[39m(\u001b[38;5;124m\"\u001b[39m\u001b[38;5;124mSum is\u001b[39m\u001b[38;5;124m\"\u001b[39m, num1 \u001b[38;5;241m+\u001b[39m num2)\n\u001b[1;32m----> 4\u001b[0m result \u001b[38;5;241m=\u001b[39m \u001b[43madd\u001b[49m\u001b[43m(\u001b[49m\u001b[38;5;241;43m10\u001b[39;49m\u001b[43m,\u001b[49m\u001b[43m \u001b[49m\u001b[38;5;241;43m200\u001b[39;49m\u001b[43m)\u001b[49m\u001b[43m \u001b[49m\u001b[38;5;241;43m+\u001b[39;49m\u001b[43m \u001b[49m\u001b[38;5;241;43m100\u001b[39;49m\n",
      "\u001b[1;31mTypeError\u001b[0m: unsupported operand type(s) for +: 'NoneType' and 'int'"
     ]
    }
   ],
   "source": [
    "def add(num1, num2):\n",
    "    print(\"Sum is\", num1 + num2)\n",
    "\n",
    "result = add(10, 200) + 100\n",
    "\n"
   ]
  },
  {
   "cell_type": "code",
   "execution_count": null,
   "id": "58622814-00fe-454b-87df-63dd63368d31",
   "metadata": {},
   "outputs": [],
   "source": [
    "Returning Multiple Values "
   ]
  },
  {
   "cell_type": "code",
   "execution_count": 43,
   "id": "787f8eaf-0be5-49d4-bac7-c7a85cab4e80",
   "metadata": {},
   "outputs": [
    {
     "name": "stdout",
     "output_type": "stream",
     "text": [
      "number1 is 15\n",
      "number2 is 100\n"
     ]
    }
   ],
   "source": [
    "def sort_two_num(num1, num2):\n",
    "    if num1 < num2:\n",
    "        return num1, num2\n",
    "    else:\n",
    "        return num2, num1\n",
    "\n",
    "\n",
    "number1, number2 = sort_two_num(100, 15)\n",
    "print(\"number1 is\", number1)\n",
    "print(\"number2 is\", number2)\n",
    "\n"
   ]
  },
  {
   "cell_type": "code",
   "execution_count": null,
   "id": "6cf21a50-63ad-48e1-a194-f108e8b9fbff",
   "metadata": {},
   "outputs": [],
   "source": [
    "Default Arguments"
   ]
  },
  {
   "cell_type": "code",
   "execution_count": 44,
   "id": "42e0be98-6eef-4d75-92c9-82710314be10",
   "metadata": {},
   "outputs": [
    {
     "name": "stdout",
     "output_type": "stream",
     "text": [
      "length= 2 , width =  3\n",
      "Area of rectangle is 6\n",
      "\n",
      "length= 4 , width =  6\n",
      "Area of rectangle is 24\n",
      "\n",
      "length= 23 , width =  100\n",
      "Area of rectangle is 2300\n",
      "\n",
      "length= 12 , width =  3\n",
      "Area of rectangle is 36\n",
      "\n"
     ]
    }
   ],
   "source": [
    "def calc_area(length=2, width=3):\n",
    "    print(\"length=\", length,  \", width = \", width)\n",
    "    print(\"Area of rectangle is\", width * length)\n",
    "    print()\n",
    "\n",
    "\n",
    "calc_area()\n",
    "calc_area(4, 6)\n",
    "calc_area(width=100, length=23)\n",
    "calc_area(length=12)"
   ]
  },
  {
   "cell_type": "code",
   "execution_count": null,
   "id": "d0512909-7969-4ec2-a603-f9aa1e2213df",
   "metadata": {},
   "outputs": [],
   "source": []
  }
 ],
 "metadata": {
  "kernelspec": {
   "display_name": "Python 3 (ipykernel)",
   "language": "python",
   "name": "python3"
  },
  "language_info": {
   "codemirror_mode": {
    "name": "ipython",
    "version": 3
   },
   "file_extension": ".py",
   "mimetype": "text/x-python",
   "name": "python",
   "nbconvert_exporter": "python",
   "pygments_lexer": "ipython3",
   "version": "3.12.3"
  }
 },
 "nbformat": 4,
 "nbformat_minor": 5
}
